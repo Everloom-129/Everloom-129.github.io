{
 "cells": [
  {
   "cell_type": "code",
   "execution_count": null,
   "metadata": {},
   "outputs": [],
   "source": []
  },
  {
   "cell_type": "markdown",
   "metadata": {},
   "source": [
    "# Idea Page\n",
    "Here is some interesting attempt I met while discussing with my gpt on how to improve my website:\n"
   ]
  },
  {
   "cell_type": "markdown",
   "metadata": {},
   "source": [
    "Hey, I am setting my own website, the projects.html is a template you can refer. I want to add another subpage named 'My favourite paper\", the content should be inprojects.html, help me write another html page based on the template\n",
    "\n",
    "## projects.html\n",
    "\n",
    "\n",
    "---\n",
    "## projects.html\n",
    "\n",
    "\n",
    " \n",
    "\n",
    "The projects.html file includes basic HTML structure with head and body sections, utilizing meta tags for responsiveness and linking to external CSS for styling and JavaScript for functionality. It references Bootstrap and jQuery, indicating a styled and interactive page layout.\n",
    "\n",
    "Following this structure, you should create a new HTML page for \"My Favourite Paper\" by first incorporating the necessary head elements, including meta tags, and linking to the same CSS and JavaScript resources for consistency with your existing design.\n",
    "\n",
    "Do it step by step, create the new subpage for me to download "
   ]
  },
  {
   "cell_type": "code",
   "execution_count": null,
   "metadata": {},
   "outputs": [],
   "source": [
    "# Correcting the markdown to HTML conversion process\n",
    "def correct_markdown_to_html(md_content):\n",
    "    # Splitting content by lines to handle them individually\n",
    "    lines = md_content.split('\\n')\n",
    "    html_lines = []\n",
    "\n",
    "    for line in lines:\n",
    "        # Convert headers\n",
    "        if line.startswith('# '):\n",
    "            html_lines.append('<h1>' + line[2:] + '</h1>')\n",
    "        elif line.startswith('## '):\n",
    "            html_lines.append('<h2>' + line[3:] + '</h2>')\n",
    "        elif line.startswith('### '):\n",
    "            html_lines.append('<h3>' + line[4:] + '</h3>')\n",
    "        # Convert links\n",
    "        elif line.startswith('- '):\n",
    "            parts = line[2:].split(' - ')\n",
    "            if len(parts) >= 3:  # Assuming the format is \"- title - link - description\"\n",
    "                title = parts[0]\n",
    "                link = parts[1]\n",
    "                description = ' - '.join(parts[2:])\n",
    "                html_line = '<p><a href=\"' + link + '\">' + title + '</a> - ' + description + '</p>'\n",
    "                html_lines.append(html_line)\n",
    "            else:\n",
    "                html_lines.append('<p>' + line[2:] + '</p>')\n",
    "        # Convert paragraphs and other texts\n",
    "        else:\n",
    "            if line.strip() != '':  # Avoid converting empty lines directly\n",
    "                html_lines.append('<p>' + line + '</p>')\n",
    "\n",
    "    return '\\n'.join(html_lines)\n",
    "\n",
    "# Apply the corrected conversion function\n",
    "corrected_paper_html_content = correct_markdown_to_html(paper_md_content)\n",
    "\n",
    "# Print a portion of the corrected converted content to verify the correction\n",
    "print(corrected_paper_html_content[:500])\n"
   ]
  }
 ],
 "metadata": {
  "language_info": {
   "name": "python"
  }
 },
 "nbformat": 4,
 "nbformat_minor": 2
}
